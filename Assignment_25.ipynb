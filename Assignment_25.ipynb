{
 "cells": [
  {
   "cell_type": "markdown",
   "id": "ae0f9c40",
   "metadata": {},
   "source": [
    "# Assignment 25 Answers"
   ]
  },
  {
   "cell_type": "markdown",
   "id": "bb43a46e",
   "metadata": {},
   "source": [
    "#### Q1. What is the distinction between a numpy array and a pandas data frame? Is there a way to convert between the two if there is ?\n",
    "**Ans:** Numpy Ndarray provides a lot of convenient and optimized methods for performing several mathematical operations on vectors.\n",
    "\n",
    "Pandas Dataframe is an in-memory 2-dimensional tabular representation of data. In simpler words, it can be seen as a spreadsheet having rows and columns.\n",
    "\n",
    "Conversion : `Dataframe=pandas.DataFrame(array)`"
   ]
  },
  {
   "cell_type": "markdown",
   "id": "a7607f34",
   "metadata": {},
   "source": [
    "#### Q2. What can go wrong when an user enters in a stock-ticker symbol, and how do you handle it?\n",
    "\n",
    "**Ans**  When an user enters a stock-ticker symbol, several things can go wrong and cause errors in your program. Some examples include:\n",
    "\n",
    "Invalid symbol: The user may enter a symbol that is not recognized by the stock market or that does not exist.\n",
    "\n",
    "Typing errors: The user may accidentally enter an incorrect symbol due to a typo.\n",
    "\n",
    "Symbol not supported: The stock exchange may not support the symbol entered by the user.\n",
    "\n",
    "Network errors: There may be issues with network connectivity that prevent the program from reaching the stock market data.\n",
    "\n",
    "To handle these errors, it is important to include error handling and validation in your program. Some ways to handle errors include:\n",
    "\n",
    "Input validation: Verify that the symbol entered by the user is a valid one by checking its format and checking if it exists in a list of recognized symbols.\n",
    "\n",
    "Error handling: Implement try-except blocks to catch any errors that may occur when trying to retrieve data for the symbol entered by the user.\n",
    "\n",
    "Error messages: Provide clear and informative error messages to the user in case of any errors.\n",
    "\n",
    "Fallback mechanisms: if the symbol entered is not supported by the exchange that the program is using, the program can look for the symbol in other exchanges or provide a default value.\n",
    "\n",
    "Network error handling: if there is a network error, the program can try to reconnect or use a cached version of the data."
   ]
  },
  {
   "cell_type": "markdown",
   "id": "24146fcb",
   "metadata": {},
   "source": [
    "#### Q3. Identify some of the plotting techniques that are used to produce a stock-market chart ?\n",
    "**Ans:** Bar chart, Line Chart are used for plotting. "
   ]
  },
  {
   "cell_type": "markdown",
   "id": "f0fdf95b",
   "metadata": {},
   "source": [
    "#### Q4. Why is it essential to print a legend on a stock market chart ?\n",
    "**Ans:** Legend will help comparison between different stocks, so will be essential on a stock market chart"
   ]
  },
  {
   "cell_type": "markdown",
   "id": "186d0d51",
   "metadata": {},
   "source": [
    "#### Q5. What is the best way to limit the length of a pandas data frame to less than a year ?\n",
    "**Ans:** : We can use start and end parameters for that. In start we write the date from where we are starting and at the end we write the end date. SO within this span we can restric the duration.Also we can use the parameters like periods for how much times we need the duration and we can also use the frequency parameter."
   ]
  },
  {
   "cell_type": "markdown",
   "id": "5805fa40",
   "metadata": {},
   "source": [
    "#### Q6. What is the definition of a 180-day moving average ?\n",
    "**Ans:** : The 180-day moving average is represented as a line on charts and represents the average price over the past 180 days. The moving average can give traders a sense regarding whether the trend is up or down, while also identifying potential support or resistance areas."
   ]
  },
  {
   "cell_type": "code",
   "execution_count": null,
   "id": "ceaa1662",
   "metadata": {},
   "outputs": [],
   "source": []
  },
  {
   "cell_type": "code",
   "execution_count": null,
   "id": "76b3a506",
   "metadata": {},
   "outputs": [],
   "source": []
  }
 ],
 "metadata": {
  "kernelspec": {
   "display_name": "Python 3 (ipykernel)",
   "language": "python",
   "name": "python3"
  },
  "language_info": {
   "codemirror_mode": {
    "name": "ipython",
    "version": 3
   },
   "file_extension": ".py",
   "mimetype": "text/x-python",
   "name": "python",
   "nbconvert_exporter": "python",
   "pygments_lexer": "ipython3",
   "version": "3.9.13"
  }
 },
 "nbformat": 4,
 "nbformat_minor": 5
}
