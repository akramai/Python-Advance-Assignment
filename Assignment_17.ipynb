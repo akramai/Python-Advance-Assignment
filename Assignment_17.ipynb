{
 "cells": [
  {
   "cell_type": "markdown",
   "id": "48f25c62",
   "metadata": {},
   "source": [
    "# Assignment 17 Answers"
   ]
  },
  {
   "cell_type": "markdown",
   "id": "fdba87a8",
   "metadata": {},
   "source": [
    "#### Q1. Explain the difference between greedy and non-greedy syntax with visual terms in as few words as possible. What is the bare minimum effort required to transform a greedy pattern into a non-greedy one? What characters or characters can you introduce or change?\n",
    "**Ans:** The Main difference between Greedy and Non Greedy Match Syntax is The Greedy Match will try to match as many repetitions of the quantified pattern as possible Whereas The Non Greedy Match will try to match as few repetitions of the quantified pattern as possible"
   ]
  },
  {
   "cell_type": "markdown",
   "id": "c91d4a1f",
   "metadata": {},
   "source": [
    "#### Q2. When exactly does greedy versus non-greedy make a difference?  What if you're looking for a non-greedy match but the only one available is greedy?\n",
    "**Ans:** The Greedy Match will try to match as many repetitions of the quantified pattern as possible. The Non Greedy Match will try to match as few repetitions of the quantified pattern as possible. If only Non Greedy Match is available, we can use other filtering or pattern matching methods of regex and further identify the required pattern."
   ]
  },
  {
   "cell_type": "markdown",
   "id": "ab858979",
   "metadata": {},
   "source": [
    "#### Q3. In a simple match of a string, which looks only for one match and does not do any replacement, is the use of a nontagged group likely to make any practical difference?\n",
    "**Ans:** In this Case The Non Tagged Group will not make any diffrence in this case."
   ]
  },
  {
   "cell_type": "markdown",
   "id": "124d3ed0",
   "metadata": {},
   "source": [
    "#### Q4. Describe a scenario in which using a nontagged category would have a significant impact on the program's outcomes ?\n",
    "**Ans:** Here in the below Code Snippet **`.`** decimal is not tagged or captured. It will useful in scenarios where the separator of value in a string is of no use and we need to capture only the values."
   ]
  },
  {
   "cell_type": "markdown",
   "id": "5a76e42a",
   "metadata": {},
   "source": [
    "#### Q5. Unlike a normal regex pattern, a look-ahead condition does not consume the characters it examines. Describe a situation in which this could make a difference in the results of your programme ?\n",
    "**Ans:**  While counting the number of multiple lines or mutiple sentence in a string the positive look ahead makes a difference, without which we wont get the correct count of lines or sentences in a string."
   ]
  },
  {
   "cell_type": "markdown",
   "id": "5a6e0d8f",
   "metadata": {},
   "source": [
    "#### Q6. In standard expressions, what is the difference between positive look-ahead and negative look-ahead ?\n",
    "**Ans:** Positive Lookahead allows to add a condition for **what follows**. Negative Lookahead is similar, but it looks behind. That is, it allows to match a pattern only if there’s something before it."
   ]
  },
  {
   "cell_type": "markdown",
   "id": "954d327f",
   "metadata": {},
   "source": [
    "#### Q7. What is the benefit of referring to groups by name rather than by number in a standard expression?\n",
    "**Ans:** Referring to groups by name rather than by number in a standard expression helps to keep the code clear and easy to understand."
   ]
  },
  {
   "cell_type": "markdown",
   "id": "6f73ee77",
   "metadata": {},
   "source": [
    "#### Q8. Can you identify repeated items within a target string using named groups, as in \"The cow jumped over the moon\"?"
   ]
  },
  {
   "cell_type": "markdown",
   "id": "a2f7c46f",
   "metadata": {},
   "source": [
    "#### Q9. When parsing a string, what is at least one thing that the Scanner interface does for you that the re.findall feature does not ?\n",
    "**Ans:** **`re.findall()`** module is used to search for **`all`** occurrences that match a given pattern. In contrast, **`re.search()`** will only return the first occurrence that matches the specified pattern. **`re.findall()`** will iterate over all the lines of the file and will return all non-overlapping matches of pattern in a single step."
   ]
  },
  {
   "cell_type": "markdown",
   "id": "0b65593b",
   "metadata": {},
   "source": [
    "#### Q10. Does a scanner object have to be named scanner?\n",
    "**Ans:** Yes, It may have any name."
   ]
  }
 ],
 "metadata": {
  "kernelspec": {
   "display_name": "Python 3 (ipykernel)",
   "language": "python",
   "name": "python3"
  },
  "language_info": {
   "codemirror_mode": {
    "name": "ipython",
    "version": 3
   },
   "file_extension": ".py",
   "mimetype": "text/x-python",
   "name": "python",
   "nbconvert_exporter": "python",
   "pygments_lexer": "ipython3",
   "version": "3.9.13"
  }
 },
 "nbformat": 4,
 "nbformat_minor": 5
}
